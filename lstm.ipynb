{
 "cells": [
  {
   "cell_type": "code",
   "execution_count": 81,
   "metadata": {
    "colab": {
     "base_uri": "https://localhost:8080/",
     "height": 357
    },
    "colab_type": "code",
    "collapsed": true,
    "id": "D4c2Sl6e2v-5",
    "outputId": "89831e1f-a507-483e-fa83-4806fadc56f4"
   },
   "outputs": [
    {
     "name": "stdout",
     "output_type": "stream",
     "text": [
      "Requirement already satisfied: tensorflow==1.14 in /usr/local/lib/python3.6/dist-packages (1.14.0)\n",
      "Requirement already satisfied: termcolor>=1.1.0 in /usr/local/lib/python3.6/dist-packages (from tensorflow==1.14) (1.1.0)\n",
      "Requirement already satisfied: gast>=0.2.0 in /usr/local/lib/python3.6/dist-packages (from tensorflow==1.14) (0.3.3)\n",
      "Requirement already satisfied: google-pasta>=0.1.6 in /usr/local/lib/python3.6/dist-packages (from tensorflow==1.14) (0.2.0)\n",
      "Requirement already satisfied: keras-applications>=1.0.6 in /usr/local/lib/python3.6/dist-packages (from tensorflow==1.14) (1.0.8)\n",
      "Requirement already satisfied: protobuf>=3.6.1 in /usr/local/lib/python3.6/dist-packages (from tensorflow==1.14) (3.10.0)\n",
      "Requirement already satisfied: astor>=0.6.0 in /usr/local/lib/python3.6/dist-packages (from tensorflow==1.14) (0.8.1)\n",
      "Requirement already satisfied: absl-py>=0.7.0 in /usr/local/lib/python3.6/dist-packages (from tensorflow==1.14) (0.9.0)\n",
      "Requirement already satisfied: grpcio>=1.8.6 in /usr/local/lib/python3.6/dist-packages (from tensorflow==1.14) (1.27.2)\n",
      "Requirement already satisfied: wheel>=0.26 in /usr/local/lib/python3.6/dist-packages (from tensorflow==1.14) (0.34.2)\n",
      "Requirement already satisfied: tensorflow-estimator<1.15.0rc0,>=1.14.0rc0 in /usr/local/lib/python3.6/dist-packages (from tensorflow==1.14) (1.14.0)\n",
      "Requirement already satisfied: wrapt>=1.11.1 in /usr/local/lib/python3.6/dist-packages (from tensorflow==1.14) (1.12.1)\n",
      "Requirement already satisfied: numpy<2.0,>=1.14.5 in /usr/local/lib/python3.6/dist-packages (from tensorflow==1.14) (1.18.2)\n",
      "Requirement already satisfied: six>=1.10.0 in /usr/local/lib/python3.6/dist-packages (from tensorflow==1.14) (1.12.0)\n",
      "Requirement already satisfied: tensorboard<1.15.0,>=1.14.0 in /usr/local/lib/python3.6/dist-packages (from tensorflow==1.14) (1.14.0)\n",
      "Requirement already satisfied: keras-preprocessing>=1.0.5 in /usr/local/lib/python3.6/dist-packages (from tensorflow==1.14) (1.1.0)\n",
      "Requirement already satisfied: h5py in /usr/local/lib/python3.6/dist-packages (from keras-applications>=1.0.6->tensorflow==1.14) (2.10.0)\n",
      "Requirement already satisfied: setuptools in /usr/local/lib/python3.6/dist-packages (from protobuf>=3.6.1->tensorflow==1.14) (46.0.0)\n",
      "Requirement already satisfied: werkzeug>=0.11.15 in /usr/local/lib/python3.6/dist-packages (from tensorboard<1.15.0,>=1.14.0->tensorflow==1.14) (1.0.0)\n",
      "Requirement already satisfied: markdown>=2.6.8 in /usr/local/lib/python3.6/dist-packages (from tensorboard<1.15.0,>=1.14.0->tensorflow==1.14) (3.2.1)\n"
     ]
    }
   ],
   "source": [
    "#pip install tensorflow==1.\n",
    "#install if want to run in colab"
   ]
  },
  {
   "cell_type": "code",
   "execution_count": 0,
   "metadata": {
    "colab": {},
    "colab_type": "code",
    "id": "hkXJmCCo2v92"
   },
   "outputs": [],
   "source": [
    "#import libraries\n",
    "import pandas as pd\n",
    "from keras.models import Sequential\n",
    "from keras.layers import Dense,LSTM,Dropout,Activation"
   ]
  },
  {
   "cell_type": "code",
   "execution_count": 0,
   "metadata": {
    "colab": {},
    "colab_type": "code",
    "id": "WWPecs8n2v9-"
   },
   "outputs": [],
   "source": [
    "# read dataset\n",
    "df = pd.read_csv(\"AirPassengers.csv\")"
   ]
  },
  {
   "cell_type": "code",
   "execution_count": 84,
   "metadata": {
    "colab": {
     "base_uri": "https://localhost:8080/",
     "height": 204
    },
    "colab_type": "code",
    "id": "jcYKCC8A2v-C",
    "outputId": "396d805b-b761-4056-e9a7-51f27278880c"
   },
   "outputs": [
    {
     "data": {
      "text/html": [
       "<div>\n",
       "<style scoped>\n",
       "    .dataframe tbody tr th:only-of-type {\n",
       "        vertical-align: middle;\n",
       "    }\n",
       "\n",
       "    .dataframe tbody tr th {\n",
       "        vertical-align: top;\n",
       "    }\n",
       "\n",
       "    .dataframe thead th {\n",
       "        text-align: right;\n",
       "    }\n",
       "</style>\n",
       "<table border=\"1\" class=\"dataframe\">\n",
       "  <thead>\n",
       "    <tr style=\"text-align: right;\">\n",
       "      <th></th>\n",
       "      <th>Month</th>\n",
       "      <th>#Passengers</th>\n",
       "    </tr>\n",
       "  </thead>\n",
       "  <tbody>\n",
       "    <tr>\n",
       "      <th>0</th>\n",
       "      <td>1949-01</td>\n",
       "      <td>112</td>\n",
       "    </tr>\n",
       "    <tr>\n",
       "      <th>1</th>\n",
       "      <td>1949-02</td>\n",
       "      <td>118</td>\n",
       "    </tr>\n",
       "    <tr>\n",
       "      <th>2</th>\n",
       "      <td>1949-03</td>\n",
       "      <td>132</td>\n",
       "    </tr>\n",
       "    <tr>\n",
       "      <th>3</th>\n",
       "      <td>1949-04</td>\n",
       "      <td>129</td>\n",
       "    </tr>\n",
       "    <tr>\n",
       "      <th>4</th>\n",
       "      <td>1949-05</td>\n",
       "      <td>121</td>\n",
       "    </tr>\n",
       "  </tbody>\n",
       "</table>\n",
       "</div>"
      ],
      "text/plain": [
       "     Month  #Passengers\n",
       "0  1949-01          112\n",
       "1  1949-02          118\n",
       "2  1949-03          132\n",
       "3  1949-04          129\n",
       "4  1949-05          121"
      ]
     },
     "execution_count": 84,
     "metadata": {
      "tags": []
     },
     "output_type": "execute_result"
    }
   ],
   "source": [
    "#show first five line of dataset\n",
    "df.head()"
   ]
  },
  {
   "cell_type": "code",
   "execution_count": 0,
   "metadata": {
    "colab": {},
    "colab_type": "code",
    "id": "rEkdwGs7EeAk"
   },
   "outputs": [],
   "source": [
    "# save Month column as index of time sequence\n",
    "df.Month = pd.to_datetime(df.Month)\n",
    "df= df.set_index('Month')"
   ]
  },
  {
   "cell_type": "code",
   "execution_count": 86,
   "metadata": {
    "colab": {
     "base_uri": "https://localhost:8080/",
     "height": 235
    },
    "colab_type": "code",
    "id": "OpOGhpdLQZlx",
    "outputId": "888441a6-9b8f-4dc3-8b78-a8f707735b5f"
   },
   "outputs": [
    {
     "data": {
      "text/html": [
       "<div>\n",
       "<style scoped>\n",
       "    .dataframe tbody tr th:only-of-type {\n",
       "        vertical-align: middle;\n",
       "    }\n",
       "\n",
       "    .dataframe tbody tr th {\n",
       "        vertical-align: top;\n",
       "    }\n",
       "\n",
       "    .dataframe thead th {\n",
       "        text-align: right;\n",
       "    }\n",
       "</style>\n",
       "<table border=\"1\" class=\"dataframe\">\n",
       "  <thead>\n",
       "    <tr style=\"text-align: right;\">\n",
       "      <th></th>\n",
       "      <th>#Passengers</th>\n",
       "    </tr>\n",
       "    <tr>\n",
       "      <th>Month</th>\n",
       "      <th></th>\n",
       "    </tr>\n",
       "  </thead>\n",
       "  <tbody>\n",
       "    <tr>\n",
       "      <th>1949-01-01</th>\n",
       "      <td>112</td>\n",
       "    </tr>\n",
       "    <tr>\n",
       "      <th>1949-02-01</th>\n",
       "      <td>118</td>\n",
       "    </tr>\n",
       "    <tr>\n",
       "      <th>1949-03-01</th>\n",
       "      <td>132</td>\n",
       "    </tr>\n",
       "    <tr>\n",
       "      <th>1949-04-01</th>\n",
       "      <td>129</td>\n",
       "    </tr>\n",
       "    <tr>\n",
       "      <th>1949-05-01</th>\n",
       "      <td>121</td>\n",
       "    </tr>\n",
       "  </tbody>\n",
       "</table>\n",
       "</div>"
      ],
      "text/plain": [
       "            #Passengers\n",
       "Month                  \n",
       "1949-01-01          112\n",
       "1949-02-01          118\n",
       "1949-03-01          132\n",
       "1949-04-01          129\n",
       "1949-05-01          121"
      ]
     },
     "execution_count": 86,
     "metadata": {
      "tags": []
     },
     "output_type": "execute_result"
    }
   ],
   "source": [
    "#show dtaframe\n",
    "df.head()"
   ]
  },
  {
   "cell_type": "code",
   "execution_count": 0,
   "metadata": {
    "colab": {},
    "colab_type": "code",
    "id": "SEgCmqoA2v-s"
   },
   "outputs": [],
   "source": [
    "#scaling data using MinMaxScaler\n",
    "from sklearn.preprocessing import MinMaxScaler\n",
    "scal = MinMaxScaler()\n",
    "scal.fit(df)\n",
    "scaled = scal.transform(df)\n"
   ]
  },
  {
   "cell_type": "code",
   "execution_count": 0,
   "metadata": {
    "colab": {},
    "colab_type": "code",
    "id": "cyIEdMl1VIv0"
   },
   "outputs": [],
   "source": [
    "#from sklearn.model_selection import train_test_split\n",
    "\n",
    "#train, test =train_test_split(scaled,test_size=0.4, random_state=0)"
   ]
  },
  {
   "cell_type": "code",
   "execution_count": 0,
   "metadata": {
    "colab": {},
    "colab_type": "code",
    "id": "Hf23v8k2YAH2"
   },
   "outputs": [],
   "source": [
    "# split data set into training and testing\n",
    "train_size = 0.60\n",
    "train_size = int(len(scaled) * train_size)\n",
    "test_size = len(scaled) - train_size\n",
    "train, test = scaled[0:train_size, :], scaled[train_size:len(scaled), :]\n"
   ]
  },
  {
   "cell_type": "code",
   "execution_count": 0,
   "metadata": {
    "colab": {},
    "colab_type": "code",
    "id": "BNf9t-h3VeeI"
   },
   "outputs": [],
   "source": [
    "window_size = 1\n",
    "#devide training data into feature and label\n",
    "data_X, data_Y = [], []\n",
    "for i in range(len(train) - window_size - 1):\n",
    "    a = train[i:(i + window_size), 0]\n",
    "    data_X.append(a)\n",
    "    data_Y.append(train[i + window_size, 0])\n",
    "\n",
    "\n"
   ]
  },
  {
   "cell_type": "code",
   "execution_count": 0,
   "metadata": {
    "colab": {},
    "colab_type": "code",
    "id": "B5RCEH6rV74L"
   },
   "outputs": [],
   "source": [
    "\n",
    "import numpy as np\n",
    "#convert training data into numpy array\n",
    "x_train = np.array(data_X)\n",
    "y_train = np.array(data_Y)"
   ]
  },
  {
   "cell_type": "code",
   "execution_count": 0,
   "metadata": {
    "colab": {},
    "colab_type": "code",
    "id": "6wpR89LDWQwa"
   },
   "outputs": [],
   "source": [
    "#devide testing data into feature and label\n",
    "test_X, test_Y = [], []\n",
    "for i in range(len(test) - window_size - 1):\n",
    "    a = test[i:(i + window_size), 0]\n",
    "    test_X.append(a)\n",
    "    test_Y.append(test[i + window_size, 0])"
   ]
  },
  {
   "cell_type": "code",
   "execution_count": 0,
   "metadata": {
    "colab": {},
    "colab_type": "code",
    "id": "wgcRj-5-WdJ5"
   },
   "outputs": [],
   "source": [
    "#convert testing data into numpy array\n",
    "x_test = np.array(test_X)\n",
    "y_test = np.array(test_Y)"
   ]
  },
  {
   "cell_type": "code",
   "execution_count": 0,
   "metadata": {
    "colab": {},
    "colab_type": "code",
    "id": "XYp_CTPrWjdM"
   },
   "outputs": [],
   "source": [
    "#reshape data\n",
    "x_train = np.reshape(x_train, (x_train.shape[0], 1, x_train.shape[1]))\n",
    "x_test = np.reshape(x_test, (x_test.shape[0], 1, x_test.shape[1]))"
   ]
  },
  {
   "cell_type": "code",
   "execution_count": 95,
   "metadata": {
    "colab": {
     "base_uri": "https://localhost:8080/",
     "height": 1000
    },
    "colab_type": "code",
    "id": "rvF0N4Eca0ok",
    "outputId": "f5cb75b1-2679-434e-bbee-5dd699c9a725"
   },
   "outputs": [
    {
     "name": "stdout",
     "output_type": "stream",
     "text": [
      "Model: \"sequential_8\"\n",
      "_________________________________________________________________\n",
      "Layer (type)                 Output Shape              Param #   \n",
      "=================================================================\n",
      "lstm_12 (LSTM)               (None, 1, 4)              96        \n",
      "_________________________________________________________________\n",
      "dropout_9 (Dropout)          (None, 1, 4)              0         \n",
      "_________________________________________________________________\n",
      "lstm_13 (LSTM)               (None, 256)               267264    \n",
      "_________________________________________________________________\n",
      "dropout_10 (Dropout)         (None, 256)               0         \n",
      "_________________________________________________________________\n",
      "dense_8 (Dense)              (None, 1)                 257       \n",
      "_________________________________________________________________\n",
      "activation_4 (Activation)    (None, 1)                 0         \n",
      "=================================================================\n",
      "Total params: 267,617\n",
      "Trainable params: 267,617\n",
      "Non-trainable params: 0\n",
      "_________________________________________________________________\n",
      "Epoch 1/100\n",
      " - 2s - loss: 0.0185\n",
      "Epoch 2/100\n",
      " - 1s - loss: 0.0113\n",
      "Epoch 3/100\n",
      " - 1s - loss: 0.0095\n",
      "Epoch 4/100\n",
      " - 1s - loss: 0.0099\n",
      "Epoch 5/100\n",
      " - 1s - loss: 0.0087\n",
      "Epoch 6/100\n",
      " - 1s - loss: 0.0079\n",
      "Epoch 7/100\n",
      " - 1s - loss: 0.0080\n",
      "Epoch 8/100\n",
      " - 1s - loss: 0.0052\n",
      "Epoch 9/100\n",
      " - 1s - loss: 0.0061\n",
      "Epoch 10/100\n",
      " - 1s - loss: 0.0049\n",
      "Epoch 11/100\n",
      " - 1s - loss: 0.0038\n",
      "Epoch 12/100\n",
      " - 1s - loss: 0.0048\n",
      "Epoch 13/100\n",
      " - 1s - loss: 0.0029\n",
      "Epoch 14/100\n",
      " - 1s - loss: 0.0045\n",
      "Epoch 15/100\n",
      " - 1s - loss: 0.0051\n",
      "Epoch 16/100\n",
      " - 1s - loss: 0.0046\n",
      "Epoch 17/100\n",
      " - 1s - loss: 0.0048\n",
      "Epoch 18/100\n",
      " - 1s - loss: 0.0051\n",
      "Epoch 19/100\n",
      " - 1s - loss: 0.0043\n",
      "Epoch 20/100\n",
      " - 1s - loss: 0.0045\n",
      "Epoch 21/100\n",
      " - 1s - loss: 0.0050\n",
      "Epoch 22/100\n",
      " - 1s - loss: 0.0034\n",
      "Epoch 23/100\n",
      " - 1s - loss: 0.0047\n",
      "Epoch 24/100\n",
      " - 1s - loss: 0.0046\n",
      "Epoch 25/100\n",
      " - 1s - loss: 0.0065\n",
      "Epoch 26/100\n",
      " - 1s - loss: 0.0049\n",
      "Epoch 27/100\n",
      " - 1s - loss: 0.0050\n",
      "Epoch 28/100\n",
      " - 1s - loss: 0.0043\n",
      "Epoch 29/100\n",
      " - 1s - loss: 0.0044\n",
      "Epoch 30/100\n",
      " - 1s - loss: 0.0035\n",
      "Epoch 31/100\n",
      " - 1s - loss: 0.0032\n",
      "Epoch 32/100\n",
      " - 1s - loss: 0.0045\n",
      "Epoch 33/100\n",
      " - 1s - loss: 0.0063\n",
      "Epoch 34/100\n",
      " - 1s - loss: 0.0048\n",
      "Epoch 35/100\n",
      " - 1s - loss: 0.0032\n",
      "Epoch 36/100\n",
      " - 1s - loss: 0.0045\n",
      "Epoch 37/100\n",
      " - 1s - loss: 0.0040\n",
      "Epoch 38/100\n",
      " - 1s - loss: 0.0067\n",
      "Epoch 39/100\n",
      " - 1s - loss: 0.0033\n",
      "Epoch 40/100\n",
      " - 1s - loss: 0.0048\n",
      "Epoch 41/100\n",
      " - 1s - loss: 0.0044\n",
      "Epoch 42/100\n",
      " - 1s - loss: 0.0048\n",
      "Epoch 43/100\n",
      " - 1s - loss: 0.0062\n",
      "Epoch 44/100\n",
      " - 1s - loss: 0.0050\n",
      "Epoch 45/100\n",
      " - 1s - loss: 0.0055\n",
      "Epoch 46/100\n",
      " - 1s - loss: 0.0047\n",
      "Epoch 47/100\n",
      " - 1s - loss: 0.0047\n",
      "Epoch 48/100\n",
      " - 1s - loss: 0.0052\n",
      "Epoch 49/100\n",
      " - 1s - loss: 0.0059\n",
      "Epoch 50/100\n",
      " - 1s - loss: 0.0045\n",
      "Epoch 51/100\n",
      " - 1s - loss: 0.0040\n",
      "Epoch 52/100\n",
      " - 1s - loss: 0.0037\n",
      "Epoch 53/100\n",
      " - 1s - loss: 0.0057\n",
      "Epoch 54/100\n",
      " - 1s - loss: 0.0049\n",
      "Epoch 55/100\n",
      " - 1s - loss: 0.0066\n",
      "Epoch 56/100\n",
      " - 1s - loss: 0.0043\n",
      "Epoch 57/100\n",
      " - 1s - loss: 0.0043\n",
      "Epoch 58/100\n",
      " - 1s - loss: 0.0054\n",
      "Epoch 59/100\n",
      " - 1s - loss: 0.0045\n",
      "Epoch 60/100\n",
      " - 1s - loss: 0.0032\n",
      "Epoch 61/100\n",
      " - 1s - loss: 0.0044\n",
      "Epoch 62/100\n",
      " - 1s - loss: 0.0053\n",
      "Epoch 63/100\n",
      " - 1s - loss: 0.0038\n",
      "Epoch 64/100\n",
      " - 1s - loss: 0.0039\n",
      "Epoch 65/100\n",
      " - 1s - loss: 0.0050\n",
      "Epoch 66/100\n",
      " - 1s - loss: 0.0048\n",
      "Epoch 67/100\n",
      " - 1s - loss: 0.0047\n",
      "Epoch 68/100\n",
      " - 1s - loss: 0.0040\n",
      "Epoch 69/100\n",
      " - 1s - loss: 0.0038\n",
      "Epoch 70/100\n",
      " - 1s - loss: 0.0045\n",
      "Epoch 71/100\n",
      " - 1s - loss: 0.0041\n",
      "Epoch 72/100\n",
      " - 1s - loss: 0.0037\n",
      "Epoch 73/100\n",
      " - 1s - loss: 0.0046\n",
      "Epoch 74/100\n",
      " - 1s - loss: 0.0033\n",
      "Epoch 75/100\n",
      " - 1s - loss: 0.0045\n",
      "Epoch 76/100\n",
      " - 1s - loss: 0.0044\n",
      "Epoch 77/100\n",
      " - 1s - loss: 0.0045\n",
      "Epoch 78/100\n",
      " - 1s - loss: 0.0038\n",
      "Epoch 79/100\n",
      " - 1s - loss: 0.0054\n",
      "Epoch 80/100\n",
      " - 1s - loss: 0.0047\n",
      "Epoch 81/100\n",
      " - 1s - loss: 0.0034\n",
      "Epoch 82/100\n",
      " - 1s - loss: 0.0036\n",
      "Epoch 83/100\n",
      " - 1s - loss: 0.0035\n",
      "Epoch 84/100\n",
      " - 1s - loss: 0.0040\n",
      "Epoch 85/100\n",
      " - 1s - loss: 0.0045\n",
      "Epoch 86/100\n",
      " - 1s - loss: 0.0054\n",
      "Epoch 87/100\n",
      " - 1s - loss: 0.0049\n",
      "Epoch 88/100\n",
      " - 1s - loss: 0.0044\n",
      "Epoch 89/100\n",
      " - 1s - loss: 0.0037\n",
      "Epoch 90/100\n",
      " - 1s - loss: 0.0039\n",
      "Epoch 91/100\n",
      " - 1s - loss: 0.0057\n",
      "Epoch 92/100\n",
      " - 1s - loss: 0.0053\n",
      "Epoch 93/100\n",
      " - 1s - loss: 0.0044\n",
      "Epoch 94/100\n",
      " - 1s - loss: 0.0059\n",
      "Epoch 95/100\n",
      " - 1s - loss: 0.0042\n",
      "Epoch 96/100\n",
      " - 1s - loss: 0.0051\n",
      "Epoch 97/100\n",
      " - 1s - loss: 0.0046\n",
      "Epoch 98/100\n",
      " - 1s - loss: 0.0043\n",
      "Epoch 99/100\n",
      " - 1s - loss: 0.0044\n",
      "Epoch 100/100\n",
      " - 1s - loss: 0.0040\n"
     ]
    },
    {
     "data": {
      "text/plain": [
       "<keras.callbacks.History at 0x7fb45c7dc588>"
      ]
     },
     "execution_count": 95,
     "metadata": {
      "tags": []
     },
     "output_type": "execute_result"
    }
   ],
   "source": [
    "#define sequential regression model\n",
    "model = Sequential()\n",
    "model.add(LSTM(input_shape = (1,window_size), \n",
    "               units = 4, \n",
    "               return_sequences = True))\n",
    "model.add(Dropout(0.5))\n",
    "model.add(LSTM(256))\n",
    "model.add(Dropout(0.5))\n",
    "model.add(Dense(1))\n",
    "model.add(Activation(\"linear\"))\n",
    "model.compile(loss = \"mse\", \n",
    "              optimizer = \"adam\")\n",
    "model.summary()\n",
    "#fir model\n",
    "model.fit(x_train, y_train, epochs = 100, batch_size = 1, verbose = 2)"
   ]
  },
  {
   "cell_type": "code",
   "execution_count": 96,
   "metadata": {
    "colab": {
     "base_uri": "https://localhost:8080/",
     "height": 34
    },
    "colab_type": "code",
    "id": "dey52qluYA7o",
    "outputId": "e34646d3-b6a8-4153-a4d9-6cf32b286c08"
   },
   "outputs": [
    {
     "name": "stdout",
     "output_type": "stream",
     "text": [
      "Training data score: 24.94 RMSE\n"
     ]
    }
   ],
   "source": [
    "    import math\n",
    "    from sklearn.metrics import mean_squared_error\n",
    "    train_predict = scal.inverse_transform(model2.predict(x_train))\n",
    "    # Prepare y_train data to also be on the original scale for interpretability.\n",
    "    d = scal.inverse_transform([y_train])\n",
    "    #calculat rmse training\n",
    "    rmse_train = math.sqrt(mean_squared_error(d[0], train_predict[:, 0]))\n",
    "    print(\"Training data score: %.2f RMSE\" % rmse_train)"
   ]
  },
  {
   "cell_type": "code",
   "execution_count": 97,
   "metadata": {
    "colab": {
     "base_uri": "https://localhost:8080/",
     "height": 34
    },
    "colab_type": "code",
    "id": "3_u8JMLmXwaf",
    "outputId": "e175fad6-1e7c-4ba5-891d-ccd67a1d5a9c"
   },
   "outputs": [
    {
     "name": "stdout",
     "output_type": "stream",
     "text": [
      "Training data score: 70.77 RMSE\n"
     ]
    }
   ],
   "source": [
    "    test_predict = scal.inverse_transform(model2.predict(x_test))\n",
    "    # Prepare y_test data to also be on the original scale for interpretability.\n",
    "    d = scal.inverse_transform([y_test])\n",
    "    #calculate #rmse testing\n",
    "    rmse_test = math.sqrt(mean_squared_error(d[0], test_predict[:, 0]))\n",
    "    print(\"Training data score: %.2f RMSE\" % rmse_test)"
   ]
  },
  {
   "cell_type": "code",
   "execution_count": 98,
   "metadata": {
    "colab": {
     "base_uri": "https://localhost:8080/",
     "height": 350
    },
    "colab_type": "code",
    "id": "6RYDk21BY4V8",
    "outputId": "ccfc6b9d-7474-4a72-dbb5-e4c42cfdde01"
   },
   "outputs": [
    {
     "data": {
      "image/png": "[encoded data removed]",
      "text/plain": [
       "<Figure size 1080x360 with 1 Axes>"
      ]
     },
     "metadata": {
      "tags": []
     },
     "output_type": "display_data"
    }
   ],
   "source": [
    "import matplotlib.pyplot as plt\n",
    "\n",
    "# Start with training predictions.\n",
    "train_predict_plot = np.empty_like(scaled)\n",
    "train_predict_plot[:, :] = np.nan\n",
    "train_predict_plot[window_size:len(train_predict) + window_size, :] = train_predict\n",
    "\n",
    "# Add test predictions.\n",
    "test_predict_plot = np.empty_like(scaled)\n",
    "test_predict_plot[:, :] = np.nan\n",
    "test_predict_plot[len(train_predict) + (window_size * 2) + 1:len(scaled) - 1, :] = test_predict\n",
    "\n",
    "# Create the plot.\n",
    "plt.figure(figsize = (15, 5))\n",
    "plt.plot(scal.inverse_transform(scaled), label = \"True data\")\n",
    "plt.plot(train_predict_plot, label = \"Training set prediction\")\n",
    "plt.plot(test_predict_plot, label = \"Test set prediction\")\n",
    "plt.xlabel(\"Months\")\n",
    "plt.ylabel(\"1000 International Airline Passengers\")\n",
    "plt.title(\"Comparison true vs. predicted training / test\")\n",
    "plt.legend()\n",
    "plt.show()"
   ]
  }
 ],
 "metadata": {
  "accelerator": "GPU",
  "colab": {
   "name": "lstm.ipynb",
   "provenance": []
  },
  "kernelspec": {
   "display_name": "Python 3",
   "language": "python",
   "name": "python3"
  },
  "language_info": {
   "codemirror_mode": {
    "name": "ipython",
    "version": 3
   },
   "file_extension": ".py",
   "mimetype": "text/x-python",
   "name": "python",
   "nbconvert_exporter": "python",
   "pygments_lexer": "ipython3",
   "version": "3.7.3"
  }
 },
 "nbformat": 4,
 "nbformat_minor": 1
}
