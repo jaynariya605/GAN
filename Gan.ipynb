{
 "cells": [
  {
   "cell_type": "code",
   "execution_count": null,
   "metadata": {},
   "outputs": [],
   "source": [
    "#pip install tensorflow==1.14\n",
    "#install for colab"
   ]
  },
  {
   "cell_type": "code",
   "execution_count": 187,
   "metadata": {},
   "outputs": [
    {
     "name": "stdout",
     "output_type": "stream",
     "text": [
      "Extracting MNIST_data\\train-images-idx3-ubyte.gz\n",
      "Extracting MNIST_data\\train-labels-idx1-ubyte.gz\n",
      "Extracting MNIST_data\\t10k-images-idx3-ubyte.gz\n",
      "Extracting MNIST_data\\t10k-labels-idx1-ubyte.gz\n"
     ]
    }
   ],
   "source": [
    "#import libraries\n",
    "import numpy as np\n",
    "import matplotlib.pyplot as plt\n",
    "import pandas as pd\n",
    "import tensorflow as tf\n",
    "\n",
    "%matplotlib inline\n",
    "#import dataset from tensorflow\n",
    "from tensorflow.examples.tutorials.mnist import input_data\n",
    "mnist = input_data.read_data_sets(\"MNIST_data\", one_hot=True)"
   ]
  },
  {
   "cell_type": "code",
   "execution_count": 188,
   "metadata": {},
   "outputs": [],
   "source": [
    "# split data into train and test\n",
    "x_train, y_train = mnist.train.images, mnist.train.labels\n",
    "x_test, y_test = mnist.test.images, mnist.test.labels\n",
    "\n",
    "#Reshape dataset for model\n",
    "x_train = x_train.reshape(x_train.shape[0], 28, 28, 1)\n",
    "x_test = x_test.reshape(x_test.shape[0], 28, 28, 1)"
   ]
  },
  {
   "cell_type": "code",
   "execution_count": 189,
   "metadata": {},
   "outputs": [
    {
     "data": {
      "text/plain": [
       "(55000, 28, 28, 1)"
      ]
     },
     "execution_count": 189,
     "metadata": {},
     "output_type": "execute_result"
    }
   ],
   "source": [
    "x_train.shape"
   ]
  },
  {
   "cell_type": "code",
   "execution_count": 190,
   "metadata": {},
   "outputs": [],
   "source": [
    "#trainable finction for model layer freez and unfreez\n",
    "def modifiy_trainable(net, val):\n",
    "    net.trainable = val\n",
    "    for l in net.layers:\n",
    "        l.trainable = val"
   ]
  },
  {
   "cell_type": "code",
   "execution_count": 191,
   "metadata": {},
   "outputs": [],
   "source": [
    "#import libraries\n",
    "from tensorflow.keras.models import Sequential\n",
    "from tensorflow.keras.layers import Conv2D, MaxPooling2D, Dense, Flatten, BatchNormalization, Activation, Reshape, Input, Dropout,UpSampling2D,LeakyReLU\n",
    "from keras.losses import categorical_crossentropy\n",
    "from tensorflow.keras.optimizers import Adam\n",
    "from keras.utils import np_utils\n",
    "#from keras.layers.convolutional import UpSampling2D\n",
    "#from keras.layers.advanced_activations import LeakyReLU\n",
    "from tensorflow.keras.models import Model\n",
    "from keras.backend import image_data_format"
   ]
  },
  {
   "cell_type": "code",
   "execution_count": 193,
   "metadata": {},
   "outputs": [],
   "source": [
    "#Define generator learning rate\n",
    "Gen_learningrate = 1e-4\n",
    "#generator first input layer\n",
    "gen_input = Input(shape= [100])\n",
    "# Define generatore sequential model\n",
    "generator = Sequential()\n",
    "generator.add(Dense(200*14*14, kernel_initializer='glorot_normal'))\n",
    "generator.add(BatchNormalization())\n",
    "generator.add(Activation('relu'))\n",
    "generator.add(Reshape([14,14,200]))\n",
    "generator.add(UpSampling2D(size=(2,2)))\n",
    "generator.add(Conv2D(100,(3,3), padding='same', kernel_initializer='glorot_uniform'))\n",
    "generator.add(BatchNormalization())\n",
    "generator.add(Activation('relu'))\n",
    "generator.add(Conv2D(50,(3,3), padding='same', kernel_initializer='glorot_uniform'))\n",
    "generator.add(BatchNormalization())\n",
    "generator.add(Activation('relu'))\n",
    "generator.add(Conv2D(1,(1,1), padding='same', kernel_initializer='glorot_uniform'))\n",
    "generator.add(Activation('sigmoid'))\n"
   ]
  },
  {
   "cell_type": "code",
   "execution_count": 194,
   "metadata": {},
   "outputs": [],
   "source": [
    "#combine input layer and other layer in one model\n",
    "gen_model = Model(gen_input,generator(gen_input))"
   ]
  },
  {
   "cell_type": "code",
   "execution_count": 195,
   "metadata": {},
   "outputs": [
    {
     "name": "stdout",
     "output_type": "stream",
     "text": [
      "Model: \"model_11\"\n",
      "_________________________________________________________________\n",
      "Layer (type)                 Output Shape              Param #   \n",
      "=================================================================\n",
      "input_13 (InputLayer)        [(None, 100)]             0         \n",
      "_________________________________________________________________\n",
      "sequential_9 (Sequential)    (None, 28, 28, 1)         4341801   \n",
      "=================================================================\n",
      "Total params: 4,341,801\n",
      "Trainable params: 4,263,101\n",
      "Non-trainable params: 78,700\n",
      "_________________________________________________________________\n"
     ]
    }
   ],
   "source": [
    "gen_model.summary()"
   ]
  },
  {
   "cell_type": "code",
   "execution_count": 196,
   "metadata": {},
   "outputs": [],
   "source": [
    "#compile generator\n",
    "gen_model.compile(loss='binary_crossentropy', optimizer=Adam(lr=Gen_learningrate))"
   ]
  },
  {
   "cell_type": "code",
   "execution_count": 197,
   "metadata": {},
   "outputs": [],
   "source": [
    "#define discremenato learning rate\n",
    "declearningrate = 1e-3\n",
    "#discremenator input layer\n",
    "dec_input=Input(shape=(28,28,1))\n",
    "\n",
    "# define discremenatore sequential model\n",
    "discriminator = Sequential()\n",
    "discriminator.add(Conv2D(256,(5,5),strides=(2,2), padding = 'same'))\n",
    "discriminator.add(LeakyReLU(0.2))\n",
    "discriminator.add(Dropout(0.25))\n",
    "discriminator.add(Conv2D(512,(5,5),strides=(2,2), padding = 'same'))\n",
    "discriminator.add(LeakyReLU(0.2))\n",
    "discriminator.add(Dropout(0.25))\n",
    "discriminator.add(Flatten())\n",
    "discriminator.add(Dense(256))\n",
    "discriminator.add(LeakyReLU(0.2))\n",
    "discriminator.add(Dropout(0.25))\n",
    "discriminator.add(Dense(2, activation='softmax'))\n",
    "\n",
    "#combine input layer and other layers\n",
    "\n",
    "des_model = Model(dec_input,discriminator(dec_input))\n",
    "                  "
   ]
  },
  {
   "cell_type": "code",
   "execution_count": 198,
   "metadata": {},
   "outputs": [
    {
     "name": "stdout",
     "output_type": "stream",
     "text": [
      "Model: \"model_12\"\n",
      "_________________________________________________________________\n",
      "Layer (type)                 Output Shape              Param #   \n",
      "=================================================================\n",
      "input_14 (InputLayer)        [(None, 28, 28, 1)]       0         \n",
      "_________________________________________________________________\n",
      "sequential_10 (Sequential)   (None, 2)                 9707266   \n",
      "=================================================================\n",
      "Total params: 9,707,266\n",
      "Trainable params: 9,707,266\n",
      "Non-trainable params: 0\n",
      "_________________________________________________________________\n"
     ]
    }
   ],
   "source": [
    "des_model.summary()"
   ]
  },
  {
   "cell_type": "code",
   "execution_count": 199,
   "metadata": {},
   "outputs": [],
   "source": [
    "# compile discremenator model\n",
    "des_model.compile(loss='categorical_crossentropy', optimizer=Adam(lr=declearningrate))"
   ]
  },
  {
   "cell_type": "code",
   "execution_count": 200,
   "metadata": {},
   "outputs": [
    {
     "name": "stdout",
     "output_type": "stream",
     "text": [
      "Model: \"model_13\"\n",
      "_________________________________________________________________\n",
      "Layer (type)                 Output Shape              Param #   \n",
      "=================================================================\n",
      "input_15 (InputLayer)        [(None, 100)]             0         \n",
      "_________________________________________________________________\n",
      "model_11 (Model)             (None, 28, 28, 1)         4341801   \n",
      "_________________________________________________________________\n",
      "model_12 (Model)             (None, 2)                 9707266   \n",
      "=================================================================\n",
      "Total params: 14,049,067\n",
      "Trainable params: 4,263,101\n",
      "Non-trainable params: 9,785,966\n",
      "_________________________________________________________________\n"
     ]
    }
   ],
   "source": [
    "#combine generator and discremenator in GAN\n",
    "Generatorinput = Input(shape=[100])\n",
    "\n",
    "Gan_op = gen_model(Generatorinput)\n",
    "des_model.trainable = False\n",
    "Discreminatoroutput = des_model(Gan_op)\n",
    "GAN = Model(Generatorinput, Discreminatoroutput)\n",
    "GAN.compile(loss='categorical_crossentropy', optimizer=Adam(lr=Gen_learningrate))\n",
    "GAN.summary()"
   ]
  },
  {
   "cell_type": "code",
   "execution_count": 201,
   "metadata": {},
   "outputs": [],
   "source": [
    "from IPython import display\n",
    "import os"
   ]
  },
  {
   "cell_type": "code",
   "execution_count": 213,
   "metadata": {},
   "outputs": [],
   "source": [
    "\n",
    "def plot_loss(losses, step):# loss plotting function\n",
    "    display.clear_output(wait=True)\n",
    "    display.display(plt.gcf())\n",
    "    plt.figure(figsize=(10,8))\n",
    "    plt.plot(losses[\"d\"], label=\"discriminative loss\")\n",
    "    plt.plot(losses[\"g\"], label=\"generative loss\")\n",
    "    plt.legend()\n",
    "    plt.savefig(os.path.join('generatedimages', 'loss_{}.png'.format(step)))\n",
    "    plt.show()\n",
    "    \n",
    "    \n",
    "def plot_gan(step, n_ex=16, dim=(4,4), figsize=(4,4)):# Generated image showing and saving function\n",
    "    noise = np.random.uniform(0,1,size=[n_ex,100])\n",
    "    generated_images = generator.predict(noise)\n",
    "    \n",
    "    plt.figure(figsize=figsize)\n",
    "    for i in range(generated_images.shape[0]):\n",
    "        plt.subplot(dim[0], dim[1], i+1)\n",
    "        img = generated_images[i, :, :, 0]\n",
    "        plt.imshow(img)\n",
    "        plt.axis('off')\n",
    "    plt.tight_layout()\n",
    "    plt.savefig(os.path.join('generatedimages', 'gann_{}.png'.format(step)))\n",
    "    plt.show()\n"
   ]
  },
  {
   "cell_type": "code",
   "execution_count": 214,
   "metadata": {},
   "outputs": [],
   "source": [
    "import random"
   ]
  },
  {
   "cell_type": "code",
   "execution_count": 215,
   "metadata": {},
   "outputs": [
    {
     "name": "stdout",
     "output_type": "stream",
     "text": [
      "<class 'list'>\n",
      "1000\n",
      "[20318, 33560, 53312, 1622, 25705, 3783, 51823, 32497, 15534, 12229]\n"
     ]
    },
    {
     "data": {
      "text/plain": [
       "(1000, 28, 28, 1)"
      ]
     },
     "execution_count": 215,
     "metadata": {},
     "output_type": "execute_result"
    }
   ],
   "source": [
    "# taking random samples\n",
    "n_train = 1000\n",
    "#train_idx = np.random.sample()\n",
    "train_idx = random.sample(range(0, x_train.shape[0]), n_train)\n",
    "print(type(train_idx))\n",
    "print(len(train_idx))\n",
    "print(train_idx[:10])\n",
    "\n",
    "X_T = x_train[train_idx, :, :, :]\n",
    "X_T.shape"
   ]
  },
  {
   "cell_type": "code",
   "execution_count": 216,
   "metadata": {},
   "outputs": [
    {
     "data": {
      "text/plain": [
       "(2000, 28, 28, 1)"
      ]
     },
     "execution_count": 216,
     "metadata": {},
     "output_type": "execute_result"
    }
   ],
   "source": [
    "# noise for generator\n",
    "noise_gen = np.random.uniform(0,1,size=[X_T.shape[0],100])\n",
    "generated_images = generator.predict(noise_gen)\n",
    "X = np.concatenate((X_T, generated_images))\n",
    "X.shape"
   ]
  },
  {
   "cell_type": "code",
   "execution_count": 217,
   "metadata": {},
   "outputs": [
    {
     "name": "stdout",
     "output_type": "stream",
     "text": [
      "(2000, 2)\n",
      "[[0. 1.]\n",
      " [0. 1.]\n",
      " [0. 1.]\n",
      " ...\n",
      " [1. 0.]\n",
      " [1. 0.]\n",
      " [1. 0.]]\n"
     ]
    }
   ],
   "source": [
    "n = X_T.shape[0]\n",
    "y = np.zeros([2*n,2])\n",
    "y[:n, 1] = 1\n",
    "y[n:, 0] = 1\n",
    "print(y.shape)\n",
    "print(y)"
   ]
  },
  {
   "cell_type": "code",
   "execution_count": 218,
   "metadata": {},
   "outputs": [
    {
     "name": "stdout",
     "output_type": "stream",
     "text": [
      "(2000, 28, 28, 1)\n",
      "(2000, 2)\n",
      "2000/2000 [==============================] - ETA: 9s - loss: 0.115 - ETA: 9s - loss: 0.111 - ETA: 8s - loss: 0.157 - ETA: 7s - loss: 0.138 - ETA: 7s - loss: 0.146 - ETA: 6s - loss: 0.134 - ETA: 5s - loss: 0.125 - ETA: 5s - loss: 0.113 - ETA: 4s - loss: 0.105 - ETA: 3s - loss: 0.099 - ETA: 3s - loss: 0.095 - ETA: 2s - loss: 0.089 - ETA: 1s - loss: 0.087 - ETA: 1s - loss: 0.086 - ETA: 0s - loss: 0.083 - 11s 5ms/sample - loss: 0.0813\n"
     ]
    }
   ],
   "source": [
    "#cheking loss for noise\n",
    "modifiy_trainable(des_model, True)\n",
    "print(X.shape)\n",
    "print(y.shape)\n",
    "des_model.fit(X,y, epochs=1, batch_size=128)\n",
    "y_pred = des_model.predict(X)"
   ]
  },
  {
   "cell_type": "code",
   "execution_count": 219,
   "metadata": {},
   "outputs": [
    {
     "name": "stdout",
     "output_type": "stream",
     "text": [
      "(2000, 2)\n",
      "(2000,)\n",
      "(2000, 2)\n",
      "y_idx[10:] : [1 1 1 ... 0 0 0]\n",
      "y_idx[1500:] : [0 0 0 0 0 0 0 0 0 0 0 0 0 0 0 0 0 0 0 0 0 0 0 0 0 0 0 0 0 0 0 0 0 0 0 0 0\n",
      " 0 0 0 0 0 0 0 0 0 0 0 0 0 0 0 0 0 0 0 0 0 0 0 0 0 0 0 0 0 0 0 0 0 0 0 0 0\n",
      " 0 0 0 0 0 0 0 0 0 0 0 0 0 0 0 0 0 0 0 0 0 0 0 0 0 0 0 0 0 0 0 0 0 0 0 0 0\n",
      " 0 0 0 0 0 0 0 0 0 0 0 0 0 0 0 0 0 0 0 0 0 0 0 0 0 0 0 0 0 0 0 0 0 0 0 0 0\n",
      " 0 0 0 0 0 0 0 0 0 0 0 0 0 0 0 0 0 0 0 0 0 0 0 0 0 0 0 0 0 0 0 0 0 0 0 0 0\n",
      " 0 0 0 0 0 0 0 0 0 0 0 0 0 0 0 0 0 0 0 0 0 0 0 0 0 0 0 0 0 0 0 0 0 0 0 0 0\n",
      " 0 0 0 0 0 0 0 0 0 0 0 0 0 0 0 0 0 0 0 0 0 0 0 0 0 0 0 0 0 0 0 0 0 0 0 0 0\n",
      " 0 0 0 0 0 0 0 0 0 0 0 0 0 0 0 0 0 0 0 0 0 0 0 0 0 0 0 0 0 0 0 0 0 0 0 0 0\n",
      " 0 0 0 0 0 0 0 0 0 0 0 0 0 0 0 0 0 0 0 0 0 0 0 0 0 0 0 0 0 0 0 0 0 0 0 0 0\n",
      " 0 0 0 0 0 0 0 0 0 0 0 0 0 0 0 0 0 0 0 0 0 0 0 0 0 0 0 0 0 0 0 0 0 0 0 0 0\n",
      " 0 0 0 0 0 0 0 0 0 0 0 0 0 0 0 0 0 0 0 0 0 0 0 0 0 0 0 0 0 0 0 0 0 0 0 0 0\n",
      " 0 0 0 0 0 0 0 0 0 0 0 0 0 0 0 0 0 0 0 0 0 0 0 0 0 0 0 0 0 0 0 0 0 0 0 0 0\n",
      " 0 0 0 0 0 0 0 0 0 0 0 0 0 0 0 0 0 0 0 0 0 0 0 0 0 0 0 0 0 0 0 0 0 0 0 0 0\n",
      " 0 0 0 0 0 0 0 0 0 0 0 0 0 0 0 0 0 0 0]\n",
      "(2000,)\n",
      "[0 0 0 0 0 0 0 0 0 1]\n",
      "Accuracy : 98.4 of 1968 right\n"
     ]
    }
   ],
   "source": [
    "print(y_pred.shape)\n",
    "y_pred_idx = np.argmax(y_pred, axis=1)\n",
    "print(y_pred_idx.shape)\n",
    "print(y.shape)\n",
    "y_idx = np.argmax(y, axis =1)\n",
    "print(\"y_idx[10:] :\", y_idx[10:])\n",
    "print(\"y_idx[1500:] :\", y_idx[1500:])\n",
    "diff = y_idx - y_pred_idx\n",
    "print(diff.shape)\n",
    "print(diff[:10])\n",
    "n_total = y.shape[0]\n",
    "n_rig = (diff==0).sum()\n",
    "acc = float(n_rig*100.0/n_total)\n",
    "\n",
    "print(\"Accuracy : {} of {} right\".format(acc, n_rig, n_total))"
   ]
  },
  {
   "cell_type": "code",
   "execution_count": 220,
   "metadata": {},
   "outputs": [],
   "source": [
    "# intialize noise\n",
    "losses = {\"d\":[], \"g\":[]}"
   ]
  },
  {
   "cell_type": "code",
   "execution_count": 221,
   "metadata": {},
   "outputs": [],
   "source": [
    "from tqdm import tqdm"
   ]
  },
  {
   "cell_type": "code",
   "execution_count": 222,
   "metadata": {},
   "outputs": [],
   "source": [
    "#deine train function for model\n",
    "def train_for_n(epoch=5000, plt_frq=25, batch_size=32):\n",
    "    for e in tqdm(range(epoch)):\n",
    "        \n",
    "        image_batch = x_train[np.random.randint(0, x_train.shape[0], size=batch_size), :, :, :]\n",
    "        noise_gen = np.random.uniform(0,1,size=[batch_size, 100])\n",
    "        generated_images = gen_model.predict(noise_gen)\n",
    "        \n",
    "        #concat image batch and generated images\n",
    "        X = np.concatenate((image_batch, generated_images))\n",
    "        y = np.zeros([2*batch_size,2])\n",
    "        y[:batch_size,1] = 1\n",
    "        y[batch_size:, 0] = 1\n",
    "        #plot loss\n",
    "        modifiy_trainable(des_model, True)\n",
    "        d_loss = des_model.train_on_batch(X,y)\n",
    "        losses[\"d\"].append(d_loss)\n",
    "        #training noise\n",
    "        noise_tr = np.random.uniform(0,1,size=[batch_size,100])\n",
    "        y2 = np.zeros([batch_size,2])\n",
    "        y2[:,1] =1\n",
    "        \n",
    "        modifiy_trainable(des_model,False)\n",
    "        g_loss = GAN.train_on_batch(noise_tr,y2)\n",
    "        losses[\"g\"].append(g_loss)\n",
    "        \n",
    "        if e%plt_frq == plt_frq -1:\n",
    "            plot_loss(losses,e)\n",
    "            plot_gan(e)"
   ]
  },
  {
   "cell_type": "code",
   "execution_count": 223,
   "metadata": {},
   "outputs": [
    {
     "data": {
      "text/plain": [
       "<Figure size 432x288 with 0 Axes>"
      ]
     },
     "metadata": {},
     "output_type": "display_data"
    },
    {
     "data": {
      "text/plain": [
       "<Figure size 432x288 with 0 Axes>"
      ]
     },
     "metadata": {},
     "output_type": "display_data"
    },
    {
     "data": {
      "image/png": "[encoded data removed]",
      "text/plain": [
       "<Figure size 720x576 with 1 Axes>"
      ]
     },
     "metadata": {
      "needs_background": "light"
     },
     "output_type": "display_data"
    },
    {
     "data": {
      "image/png": "[encoded data removed]",
      "text/plain": [
       "<Figure size 288x288 with 16 Axes>"
      ]
     },
     "metadata": {
      "needs_background": "light"
     },
     "output_type": "display_data"
    },
    {
     "name": "stderr",
     "output_type": "stream",
     "text": [
      "\n",
      "\n",
      "\n",
      "\n",
      "100%|████████████████████████████████████████████████████████████████████████████| 5000/5000 [1:52:48<00:00,  2.53s/it]"
     ]
    }
   ],
   "source": [
    "#call training function for 5000 epochs with 64 batch size\n",
    "train_for_n(epoch=5000, plt_frq=25, batch_size=64)"
   ]
  }
 ],
 "metadata": {
  "kernelspec": {
   "display_name": "Python 3",
   "language": "python",
   "name": "python3"
  },
  "language_info": {
   "codemirror_mode": {
    "name": "ipython",
    "version": 3
   },
   "file_extension": ".py",
   "mimetype": "text/x-python",
   "name": "python",
   "nbconvert_exporter": "python",
   "pygments_lexer": "ipython3",
   "version": "3.7.3"
  }
 },
 "nbformat": 4,
 "nbformat_minor": 2
}
